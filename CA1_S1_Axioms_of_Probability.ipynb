{
  "nbformat": 4,
  "nbformat_minor": 0,
  "metadata": {
    "colab": {
      "provenance": []
    },
    "kernelspec": {
      "name": "ir",
      "display_name": "R"
    },
    "language_info": {
      "name": "R"
    }
  },
  "cells": [
    {
      "cell_type": "markdown",
      "metadata": {
        "id": "0xnYepbohl5D"
      },
      "source": [
        "#<a name='1'></a>\n",
        "<div dir='rtl'>\n",
        "<h1>1. تعریف حدی احتمال (Probability Definition)</h1>\n",
        "</div>"
      ]
    },
    {
      "cell_type": "markdown",
      "metadata": {
        "id": "Tv6Qew7WBywe"
      },
      "source": [
        "<div dir='rtl'>\n",
        "طبق تعریف حدی احتمال:\n",
        "$$\n",
        "P(A) = \\lim_{n \\to +\\infty} \\frac{n_A}{n}\n",
        "$$\n",
        "قصد داریم صحت این رابطه را بصورت عملی بررسی کنیم.\n",
        "این سنجش فقط به صورت شهودی بوده و موضوعیتی را اثبات نمی‌کند (قابل اتکا نیست)؛\n",
        "اما هدف انجام آزمایش‌های آماری با استفاده از زبان\n",
        "R\n",
        "است که این مسئله ما را به این مقصود خواهد رساند.\n",
        "</div>"
      ]
    },
    {
      "cell_type": "markdown",
      "metadata": {
        "id": "-RndXix3qGPp"
      },
      "source": [
        "<div dir='rtl'>\n",
        "این مثال از Lecture 1 را در نظر بگیرید:\n",
        "<br/>\n",
        "مثال: دو تاس را می‌اندازیم و می‌خواهیم احتمال این را حساب کنیم که مجموع حاصل ۷ شود. \n",
        "</div>"
      ]
    },
    {
      "cell_type": "markdown",
      "metadata": {
        "id": "nVUySo5lI_yB"
      },
      "source": [
        "<div dir='rtl'>\n",
        "می‌دانیم که هر تاس ۶ وجه دارد و طبق اصل ضرب، تعداد پیش‌آمد‌های ممکن برای پرتاب دو تاس، برابر $6 \\times 6 = 36$ خواهد بود.\n",
        "پیش‌آمد‌های مطلوب ما آن‌هایی خواهند بود که شاهد\n",
        "$(x,y)$\n",
        "باشیم به طوری که\n",
        "$x+y=7$.\n",
        "بنابراین مجموعه پیش‌آمد‌های مطلوب ما عبارت خواهد بود از:\n",
        "$$\\{(1,6),(2,5),(3,4),(4,3),(5,2),(6,1)\\}$$\n",
        "با فرض عادلانه بودن آزمایش و سالم بودن تاس‌ها، احتمالات رو آمدن هر یک از وجوه یک تاس، متساوی‌الاحتمال هستند. بنابراین، احتمالات مشاهده هر یک از زوج مرت‌های ممکن برای تاس‌ها نیز متساوی‌الاحتمال هستند، پس می‌توانیم از تعریف کلاسیک احتمال استفاده کرده و نتیجه بگیریم که احتمال مشاهده نتیجه مطلوب ما برابر\n",
        "$\\frac{6}{36} = 0.1667$\n",
        "خواهد بود.\n",
        "</div>"
      ]
    },
    {
      "cell_type": "markdown",
      "metadata": {
        "id": "HueHzYKWLUSN"
      },
      "source": [
        "<div dir='rtl'>\n",
        "حال به تخمین این احتمال، با استفاده از تعریف حدی احتمال می‌پردازیم. در ابتدا نیاز داریم فضای پیشامد این مثال را آماده کنیم:\n",
        "</div>"
      ]
    },
    {
      "cell_type": "code",
      "metadata": {
        "id": "F5UTIavVyvtc",
        "colab": {
          "base_uri": "https://localhost:8080/",
          "height": 34
        },
        "outputId": "2e79a3f6-870d-4c68-85af-f4d7958c6d87"
      },
      "source": [
        "dice_possible_observations = seq(1, 6)\n",
        "# The above variable represents all possible observations for one dice value.\n",
        "# `seq(x,y)` returns an array from x to y by step = 1 as you can see in the\n",
        "# result.\n",
        "dice_possible_observations"
      ],
      "execution_count": 1,
      "outputs": [
        {
          "output_type": "display_data",
          "data": {
            "text/html": [
              "<style>\n",
              ".list-inline {list-style: none; margin:0; padding: 0}\n",
              ".list-inline>li {display: inline-block}\n",
              ".list-inline>li:not(:last-child)::after {content: \"\\00b7\"; padding: 0 .5ex}\n",
              "</style>\n",
              "<ol class=list-inline><li>1</li><li>2</li><li>3</li><li>4</li><li>5</li><li>6</li></ol>\n"
            ],
            "text/markdown": "1. 1\n2. 2\n3. 3\n4. 4\n5. 5\n6. 6\n\n\n",
            "text/latex": "\\begin{enumerate*}\n\\item 1\n\\item 2\n\\item 3\n\\item 4\n\\item 5\n\\item 6\n\\end{enumerate*}\n",
            "text/plain": [
              "[1] 1 2 3 4 5 6"
            ]
          },
          "metadata": {}
        }
      ]
    },
    {
      "cell_type": "code",
      "metadata": {
        "id": "VicznLo1Q0Ng",
        "colab": {
          "base_uri": "https://localhost:8080/",
          "height": 34
        },
        "outputId": "f9476185-f0fc-4d55-cc9e-46b691b70052"
      },
      "source": [
        "dice_observation_chance_to_appear = rep(1/6, 6)\n",
        "# `rep(x,y)` returns an array with length = y, full of x values.\n",
        "# We will use i-th element of this array as the i-th possible observation\n",
        "# chance to appear.\n",
        "dice_observation_chance_to_appear"
      ],
      "execution_count": 2,
      "outputs": [
        {
          "output_type": "display_data",
          "data": {
            "text/html": [
              "<style>\n",
              ".list-inline {list-style: none; margin:0; padding: 0}\n",
              ".list-inline>li {display: inline-block}\n",
              ".list-inline>li:not(:last-child)::after {content: \"\\00b7\"; padding: 0 .5ex}\n",
              "</style>\n",
              "<ol class=list-inline><li>0.166666666666667</li><li>0.166666666666667</li><li>0.166666666666667</li><li>0.166666666666667</li><li>0.166666666666667</li><li>0.166666666666667</li></ol>\n"
            ],
            "text/markdown": "1. 0.166666666666667\n2. 0.166666666666667\n3. 0.166666666666667\n4. 0.166666666666667\n5. 0.166666666666667\n6. 0.166666666666667\n\n\n",
            "text/latex": "\\begin{enumerate*}\n\\item 0.166666666666667\n\\item 0.166666666666667\n\\item 0.166666666666667\n\\item 0.166666666666667\n\\item 0.166666666666667\n\\item 0.166666666666667\n\\end{enumerate*}\n",
            "text/plain": [
              "[1] 0.1666667 0.1666667 0.1666667 0.1666667 0.1666667 0.1666667"
            ]
          },
          "metadata": {}
        }
      ]
    },
    {
      "cell_type": "markdown",
      "metadata": {
        "id": "mtxO7h1_1sU1"
      },
      "source": [
        "<div dir='rtl'>\n",
        "روش نمونه‌گیری، فرآیندی است که به کمک آن زیرمجموعه‌ای از جامعه آماری تهیه می‌شود. این کار به منظور شناخت یا برآورد پارامترهای جامعه آماری صورت می‌گیرد. برای انجام نمونه‌گیری در R، از دستور sample استفاده می‌کنیم.\n",
        "</div>"
      ]
    },
    {
      "cell_type": "code",
      "metadata": {
        "id": "oEgdKwb2Qn5e",
        "colab": {
          "base_uri": "https://localhost:8080/",
          "height": 34
        },
        "outputId": "f59f2355-99c0-4ffa-ae25-aa47fc91dc22"
      },
      "source": [
        "sample(\n",
        "  x = dice_possible_observations,\n",
        "  size = 1,\n",
        "  replace = TRUE, \n",
        "  prob = dice_observation_chance_to_appear\n",
        ")\n",
        "\n",
        "# This function returns an array with length = size, containing fair samples\n",
        "# from input array \"x\". It'll use \"prob\" input as sampling distribution.\n",
        "# `replace = True` shows that it can repeat an observation in output.\n",
        "# What we wrote above, will return a single output as a dice observation.\n",
        "# See the result. Rerun it multiple times to get different results."
      ],
      "execution_count": 3,
      "outputs": [
        {
          "output_type": "display_data",
          "data": {
            "text/html": [
              "5"
            ],
            "text/markdown": "5",
            "text/latex": "5",
            "text/plain": [
              "[1] 5"
            ]
          },
          "metadata": {}
        }
      ]
    },
    {
      "cell_type": "code",
      "metadata": {
        "id": "XhkMQvt2rU7t",
        "colab": {
          "base_uri": "https://localhost:8080/",
          "height": 34
        },
        "outputId": "2b445dbd-f5ca-4d42-91fa-aec9c5ec0468"
      },
      "source": [
        "# You can see how to define a function which samples n dice.\n",
        "sample_of_n_dice <- function(n) {\n",
        "  return (\n",
        "    sample(\n",
        "      x = dice_possible_observations,\n",
        "      size = n,\n",
        "      replace = TRUE, \n",
        "      prob = dice_observation_chance_to_appear\n",
        "    )\n",
        "  )\n",
        "}\n",
        "\n",
        "sample_of_n_dice(3)"
      ],
      "execution_count": 4,
      "outputs": [
        {
          "output_type": "display_data",
          "data": {
            "text/html": [
              "<style>\n",
              ".list-inline {list-style: none; margin:0; padding: 0}\n",
              ".list-inline>li {display: inline-block}\n",
              ".list-inline>li:not(:last-child)::after {content: \"\\00b7\"; padding: 0 .5ex}\n",
              "</style>\n",
              "<ol class=list-inline><li>3</li><li>3</li><li>5</li></ol>\n"
            ],
            "text/markdown": "1. 3\n2. 3\n3. 5\n\n\n",
            "text/latex": "\\begin{enumerate*}\n\\item 3\n\\item 3\n\\item 5\n\\end{enumerate*}\n",
            "text/plain": [
              "[1] 3 3 5"
            ]
          },
          "metadata": {}
        }
      ]
    },
    {
      "cell_type": "code",
      "metadata": {
        "id": "iVJnUC3ZSuMV",
        "colab": {
          "base_uri": "https://localhost:8080/",
          "height": 34
        },
        "outputId": "2ccaa5c1-df13-44ad-9500-05227b035ab3"
      },
      "source": [
        "# The below function calculates sum of dice.\n",
        "sum_of_n_dice <- function(n) {\n",
        "  return (\n",
        "    sum(sample_of_n_dice(n))\n",
        "  )\n",
        "}\n",
        "# The `sum` function takes an input array and returns the sum of its elements.\n",
        "# See the result. Rerun it multiple times to get different results.\n",
        "sum_of_n_dice(2)"
      ],
      "execution_count": 5,
      "outputs": [
        {
          "output_type": "display_data",
          "data": {
            "text/html": [
              "11"
            ],
            "text/markdown": "11",
            "text/latex": "11",
            "text/plain": [
              "[1] 11"
            ]
          },
          "metadata": {}
        }
      ]
    },
    {
      "cell_type": "markdown",
      "metadata": {
        "id": "ouC80O1KzWHm"
      },
      "source": [
        "<div dir='rtl'>\n",
        "حال در دو بلوک بعدی فرآیند آزمایش را شبیه‌سازی می‌کنیم.\n",
        "</div>"
      ]
    },
    {
      "cell_type": "code",
      "metadata": {
        "id": "mXLwhyf6NCCm",
        "colab": {
          "base_uri": "https://localhost:8080/",
          "height": 481
        },
        "outputId": "45f246aa-4ecb-4664-90a1-dc1fd49ed9d4"
      },
      "source": [
        "# Now we need to repeat the test and store observations.\n",
        "rownames = seq(2, 12)\n",
        "colnames = \"n\"\n",
        "# We need to record our observation so we create a matrix. It contains the \n",
        "# number of observations for each possible observation.\n",
        "# We will increment \"n\" for i-th row when the i-th observation happens. \n",
        "observations <- matrix(\n",
        "  0,\n",
        "  nrow = 11,\n",
        "  byrow = TRUE,\n",
        "  dimnames = list(rownames, colnames)\n",
        ")\n",
        "# Now see the result.\n",
        "observations"
      ],
      "execution_count": 6,
      "outputs": [
        {
          "output_type": "display_data",
          "data": {
            "text/html": [
              "<table class=\"dataframe\">\n",
              "<caption>A matrix: 11 × 1 of type dbl</caption>\n",
              "<thead>\n",
              "\t<tr><th></th><th scope=col>n</th></tr>\n",
              "</thead>\n",
              "<tbody>\n",
              "\t<tr><th scope=row>2</th><td>0</td></tr>\n",
              "\t<tr><th scope=row>3</th><td>0</td></tr>\n",
              "\t<tr><th scope=row>4</th><td>0</td></tr>\n",
              "\t<tr><th scope=row>5</th><td>0</td></tr>\n",
              "\t<tr><th scope=row>6</th><td>0</td></tr>\n",
              "\t<tr><th scope=row>7</th><td>0</td></tr>\n",
              "\t<tr><th scope=row>8</th><td>0</td></tr>\n",
              "\t<tr><th scope=row>9</th><td>0</td></tr>\n",
              "\t<tr><th scope=row>10</th><td>0</td></tr>\n",
              "\t<tr><th scope=row>11</th><td>0</td></tr>\n",
              "\t<tr><th scope=row>12</th><td>0</td></tr>\n",
              "</tbody>\n",
              "</table>\n"
            ],
            "text/markdown": "\nA matrix: 11 × 1 of type dbl\n\n| <!--/--> | n |\n|---|---|\n| 2 | 0 |\n| 3 | 0 |\n| 4 | 0 |\n| 5 | 0 |\n| 6 | 0 |\n| 7 | 0 |\n| 8 | 0 |\n| 9 | 0 |\n| 10 | 0 |\n| 11 | 0 |\n| 12 | 0 |\n\n",
            "text/latex": "A matrix: 11 × 1 of type dbl\n\\begin{tabular}{r|l}\n  & n\\\\\n\\hline\n\t2 & 0\\\\\n\t3 & 0\\\\\n\t4 & 0\\\\\n\t5 & 0\\\\\n\t6 & 0\\\\\n\t7 & 0\\\\\n\t8 & 0\\\\\n\t9 & 0\\\\\n\t10 & 0\\\\\n\t11 & 0\\\\\n\t12 & 0\\\\\n\\end{tabular}\n",
            "text/plain": [
              "   n\n",
              "2  0\n",
              "3  0\n",
              "4  0\n",
              "5  0\n",
              "6  0\n",
              "7  0\n",
              "8  0\n",
              "9  0\n",
              "10 0\n",
              "11 0\n",
              "12 0"
            ]
          },
          "metadata": {}
        }
      ]
    },
    {
      "cell_type": "code",
      "metadata": {
        "id": "OvrsPC3M2wXw",
        "colab": {
          "base_uri": "https://localhost:8080/",
          "height": 447
        },
        "outputId": "00d7216d-66f1-4870-aa9e-bc85981d6e36"
      },
      "source": [
        "# At the beginning of each experiment, we need to reset parameters.\n",
        "observations[, \"n\"] = 0\n",
        "# This loop will repeat the body, 10000 times with i = 1->1000.\n",
        "for(i in 1:100000) {\n",
        "\n",
        "  sum <- sum_of_n_dice(2)\n",
        "  \n",
        "  observations[sum-1][1] = observations[sum-1][1] + 1\n",
        "  \n",
        "  # In each step, we will increment \"n\" for row = the observation.\n",
        "  # Pay attention to the indexing. `observations[x, y]` addresses the value of\n",
        "  # row = x and column = y.\n",
        "}\n",
        "# See the observation. Change number of repeats and try again.\n",
        "observations"
      ],
      "execution_count": 7,
      "outputs": [
        {
          "output_type": "display_data",
          "data": {
            "text/html": [
              "<table class=\"dataframe\">\n",
              "<caption>A matrix: 11 × 1 of type dbl</caption>\n",
              "<thead>\n",
              "\t<tr><th></th><th scope=col>n</th></tr>\n",
              "</thead>\n",
              "<tbody>\n",
              "\t<tr><th scope=row>2</th><td> 2750</td></tr>\n",
              "\t<tr><th scope=row>3</th><td> 5544</td></tr>\n",
              "\t<tr><th scope=row>4</th><td> 8126</td></tr>\n",
              "\t<tr><th scope=row>5</th><td>11056</td></tr>\n",
              "\t<tr><th scope=row>6</th><td>13868</td></tr>\n",
              "\t<tr><th scope=row>7</th><td>16790</td></tr>\n",
              "\t<tr><th scope=row>8</th><td>13947</td></tr>\n",
              "\t<tr><th scope=row>9</th><td>11110</td></tr>\n",
              "\t<tr><th scope=row>10</th><td> 8411</td></tr>\n",
              "\t<tr><th scope=row>11</th><td> 5583</td></tr>\n",
              "\t<tr><th scope=row>12</th><td> 2815</td></tr>\n",
              "</tbody>\n",
              "</table>\n"
            ],
            "text/markdown": "\nA matrix: 11 × 1 of type dbl\n\n| <!--/--> | n |\n|---|---|\n| 2 |  2750 |\n| 3 |  5544 |\n| 4 |  8126 |\n| 5 | 11056 |\n| 6 | 13868 |\n| 7 | 16790 |\n| 8 | 13947 |\n| 9 | 11110 |\n| 10 |  8411 |\n| 11 |  5583 |\n| 12 |  2815 |\n\n",
            "text/latex": "A matrix: 11 × 1 of type dbl\n\\begin{tabular}{r|l}\n  & n\\\\\n\\hline\n\t2 &  2750\\\\\n\t3 &  5544\\\\\n\t4 &  8126\\\\\n\t5 & 11056\\\\\n\t6 & 13868\\\\\n\t7 & 16790\\\\\n\t8 & 13947\\\\\n\t9 & 11110\\\\\n\t10 &  8411\\\\\n\t11 &  5583\\\\\n\t12 &  2815\\\\\n\\end{tabular}\n",
            "text/plain": [
              "   n    \n",
              "2   2750\n",
              "3   5544\n",
              "4   8126\n",
              "5  11056\n",
              "6  13868\n",
              "7  16790\n",
              "8  13947\n",
              "9  11110\n",
              "10  8411\n",
              "11  5583\n",
              "12  2815"
            ]
          },
          "metadata": {}
        }
      ]
    },
    {
      "cell_type": "code",
      "metadata": {
        "id": "F5yThdgkWlBP",
        "colab": {
          "base_uri": "https://localhost:8080/",
          "height": 34
        },
        "outputId": "3d6a7c68-1c51-4908-b181-d46fe2564be7"
      },
      "source": [
        "# Now we need to calculate the probability of observation \"7\" based on \n",
        "# `observations`. It's so easy:\n",
        "result = observations[\"7\", \"n\"] / sum(observations[, \"n\"])\n",
        "result"
      ],
      "execution_count": 8,
      "outputs": [
        {
          "output_type": "display_data",
          "data": {
            "text/html": [
              "0.1679"
            ],
            "text/markdown": "0.1679",
            "text/latex": "0.1679",
            "text/plain": [
              "[1] 0.1679"
            ]
          },
          "metadata": {}
        }
      ]
    },
    {
      "cell_type": "code",
      "metadata": {
        "id": "U5rHxhqgPy0q"
      },
      "source": [
        "# Now we need to repeat the test and store observations.\n",
        "rownames = seq(2, 12)\n",
        "colnames = \"n\"\n",
        "# We need to record our observation so we create a matrix. It contains the \n",
        "# number of observations for each possible observation.\n",
        "# We will increment \"n\" for i-th row when the i-th observation happens. \n",
        "observations <- matrix(\n",
        "  0,\n",
        "  nrow = 11,\n",
        "  byrow = TRUE,\n",
        "  dimnames = list(rownames, colnames)\n",
        ")"
      ],
      "execution_count": 9,
      "outputs": []
    },
    {
      "cell_type": "code",
      "metadata": {
        "id": "eDmIqETRYwkV"
      },
      "source": [
        "# At the beginning of each experiment, we need to reset parameters.\n",
        "observations[, \"n\"] = 0\n",
        "# This loop will repeat the body, 10000 times with i = 1->1000.\n",
        "for(i in 1:1000) {\n",
        "\n",
        "  sum <- sum_of_n_dice(2)\n",
        "  \n",
        "  observations[sum-1][1] = observations[sum-1][1] + 1\n",
        "  \n",
        "  # In each step, we will increment \"n\" for row = the observation.\n",
        "  # Pay attention to the indexing. `observations[x, y]` addresses the value of\n",
        "  # row = x and column = y.\n",
        "}"
      ],
      "execution_count": 10,
      "outputs": []
    },
    {
      "cell_type": "code",
      "metadata": {
        "colab": {
          "base_uri": "https://localhost:8080/",
          "height": 34
        },
        "id": "PPmvo73qPzRj",
        "outputId": "932b732f-b267-4fbc-8bd1-cfa4b6df2b8a"
      },
      "source": [
        "# Now we need to calculate the probability of observation \"7\" based on \n",
        "# `observations`. It's so easy:\n",
        "result = observations[\"7\", \"n\"] / sum(observations[, \"n\"])\n",
        "result"
      ],
      "execution_count": 11,
      "outputs": [
        {
          "output_type": "display_data",
          "data": {
            "text/html": [
              "0.162"
            ],
            "text/markdown": "0.162",
            "text/latex": "0.162",
            "text/plain": [
              "[1] 0.162"
            ]
          },
          "metadata": {}
        }
      ]
    },
    {
      "cell_type": "code",
      "metadata": {
        "id": "MmkO_-31Pzi1"
      },
      "source": [
        "# Now we need to repeat the test and store observations.\n",
        "rownames = seq(2, 12)\n",
        "colnames = \"n\"\n",
        "# We need to record our observation so we create a matrix. It contains the \n",
        "# number of observations for each possible observation.\n",
        "# We will increment \"n\" for i-th row when the i-th observation happens. \n",
        "observations <- matrix(\n",
        "  0,\n",
        "  nrow = 11,\n",
        "  byrow = TRUE,\n",
        "  dimnames = list(rownames, colnames)\n",
        ")"
      ],
      "execution_count": 12,
      "outputs": []
    },
    {
      "cell_type": "code",
      "metadata": {
        "id": "hDAwNUWyY-LH"
      },
      "source": [
        "# At the beginning of each experiment, we need to reset parameters.\n",
        "observations[, \"n\"] = 0\n",
        "# This loop will repeat the body, 10000 times with i = 1->1000.\n",
        "for(i in 1:100) {\n",
        "\n",
        "  sum <- sum_of_n_dice(2)\n",
        "  \n",
        "  observations[sum-1][1] = observations[sum-1][1] + 1\n",
        "  \n",
        "  # In each step, we will increment \"n\" for row = the observation.\n",
        "  # Pay attention to the indexing. `observations[x, y]` addresses the value of\n",
        "  # row = x and column = y.\n",
        "}"
      ],
      "execution_count": 13,
      "outputs": []
    },
    {
      "cell_type": "code",
      "metadata": {
        "colab": {
          "base_uri": "https://localhost:8080/",
          "height": 34
        },
        "id": "KaYlxGUJPz3I",
        "outputId": "b5c2d76d-9518-4046-b93d-83334bbfad46"
      },
      "source": [
        "# Now we need to calculate the probability of observation \"7\" based on \n",
        "# `observations`. It's so easy:\n",
        "result = observations[\"7\", \"n\"] / sum(observations[, \"n\"])\n",
        "result"
      ],
      "execution_count": 14,
      "outputs": [
        {
          "output_type": "display_data",
          "data": {
            "text/html": [
              "0.18"
            ],
            "text/markdown": "0.18",
            "text/latex": "0.18",
            "text/plain": [
              "[1] 0.18"
            ]
          },
          "metadata": {}
        }
      ]
    },
    {
      "cell_type": "markdown",
      "metadata": {
        "id": "CzFNvI8WXlMy"
      },
      "source": [
        "<div dir='rtl'>\n",
        "حلقه‌ی اصلی آزمایش را با تعداد تکرار ۱۰۰ و ۱۰۰۰۰۰، برای هر کدام ۳ بار تکرار و مشاهدات خود را مکتوب کنید. این مشاهدات را تحلیل کنید.\n",
        "در این تحلیل، علاوه بر آنچه صلاح می‌دانید، موارد زیر نیز باید بررسی کنید:\n",
        "<br/>\n",
        "<li>\n",
        "با توجه به مقدار واقعی احتمال که در ابتدای این بخش، آن را به صورت تئوری \n",
        "محاسبه کردیم، میزان دقت این آزمایش را با تعداد نمونه ۱۰۰ در برابر تعداد نمونه ۱۰۰۰۰۰ مقایسه شود. دلیل این اختلاف اهمیت دارد.\n",
        "</li>\n",
        "<li>\n",
        "نتایج سه بار تکرار، برای کدام حالت\n",
        "(۱۰۰ بار تکرار یا ۱۰۰۰۰۰ بار تکرار)\n",
        "به هم نزدیک‌تراند؟\n",
        "</li>\n",
        "</li>\n",
        "<br/>\n",
        "برای 100 بار تکرار: 0.16 و 0.21 و 0.18\n",
        "<br/>\n",
        "برای 1000 بار تکرار: 0.175 و 0.177 و 0.16\n",
        "<br/>\n",
        "برای 100000 بار تکرار: 0.16754 و 0.16758 و 0.16546\n",
        "<br/>\n",
        "<br/>\n",
        "همانطور که از نتایج مشخص است، هرچه تعداد تکرار ازمایش بالاتر رود، نتایج حاصل به نتیجه مورد انتظار به دست امده از تئوری نزدیکتر میشوند. میانگین خطا برای 100 بار تکرار حدود 13 درصد، برای 1000 بار تکرار حدود 5 درصد و برای 100000 بار تکرار در حدود 0.5 درصد است که بسیار مقدار دقیقتریست.\n",
        "\n",
        "همچنین هرچه تعداد ازمایش‌ ها بیشتر میشود، نتایج به دست امده به هم نزدیکتر میشوند و فاصله بین نتایج کمتر میشود و برای 100000 بار تکرار نتایج بدست امده کمترین فاصله از هم دیگر را دارند.\n",
        "</li>\n",
        "</div>"
      ]
    },
    {
      "cell_type": "markdown",
      "metadata": {
        "id": "QqXf4UJ_2X3e"
      },
      "source": [
        "<div dir='rtl'>\n",
        "<font color='red'  background-color: blue>\n",
        "توجه) در کد‌های ارائه شده در این بخش، از حلقه for استفاده شده است. باید دقت کنید که به صورت کلی استفاده از حلقه مطلوب نبوده و باید از آن پرهیز شود. در این بخش با هدف آشنایی با زبان R این نکته نادیده گرفته شده است اما از بخش بعد، از استفاده‌‌ی از این حلقه تا جای ممکن پرهیز می‌شود.\n",
        "دلیل این پرهیز آن است که محاسبات آماری و نظیر آن، امکان انجام شدن به صورت ماتریسی و موازی در زبان R (و پایتون) را دارند اما زمانی که از حلقه استفاده شود، این مزیت از دست می‌رود و درنتیجه زمان اجرای برنامه‌ها بسیار زیاد می‌شود. روش‌های جایگزینی که جلوتر با آن‌ها آشنا خواهید شد، استفاده از دیتا‌فریم‌ها و ماتریس‌ها و عملگر‌های مختص به آن‌هاست. استفاده از حلقه‌ها باید فقط زمانی صورت بگیرد که شبیه‌سازی مورد نظر واقعا به زمان وابسته باشد و محاسبات هر گام، به گام قبل نیاز داشته باشد.\n",
        "</font>\n",
        "</div>"
      ]
    },
    {
      "cell_type": "markdown",
      "metadata": {
        "id": "333amGIcY5-P"
      },
      "source": [
        "<div dir='rtl'>\n",
        "<font color='green'>\n",
        "<h3><font color='green'>اگر مشتاق مشاهده بیشتر هستید، ادامه دهید:</font></h3>\n",
        "قصد داریم نمودار آزمایش بالا را گام به گام رسم کنیم تا همگرایی نتیجه آزمایش را به مقدار واقعی به مرور زمان (با زیاد شدن تعداد نمونه‌ها) مشاهده کنیم.\n",
        "کد‌های این قسمت توضیح داده نخواهند شد.\n",
        "</font>\n",
        "</div>"
      ]
    },
    {
      "cell_type": "code",
      "metadata": {
        "id": "xNfEzUPQY0wa",
        "colab": {
          "base_uri": "https://localhost:8080/",
          "height": 437
        },
        "outputId": "838b64c7-d0b2-4a8d-9116-1fce293f6a2b"
      },
      "source": [
        "observations[,\"n\"] = 0\n",
        "resutls = c()\n",
        "for(i in 1:2000) {\n",
        "  obs = sum_of_n_dice(2)\n",
        "  observations[toString(obs), 'n'] = observations[toString(obs), 'n'] + 1\n",
        "  result = observations[\"7\", \"n\"] / sum(observations[, \"n\"])\n",
        "  resutls = c(resutls,result)\n",
        "}\n",
        "plot(resutls, xlab = \"Trial\", ylab = \"Estimating the chance of observation 7\")"
      ],
      "execution_count": 15,
      "outputs": [
        {
          "output_type": "display_data",
          "data": {
            "text/plain": [
              "plot without title"
            ],
            "image/png": "[encoded data removed]"
          },
          "metadata": {
            "image/png": {
              "width": 420,
              "height": 420
            }
          }
        }
      ]
    },
    {
      "cell_type": "markdown",
      "metadata": {
        "id": "mRGCZEYbaWE6"
      },
      "source": [
        "<div dir='rtl'>\n",
        "<font color='green'  background-color: blue>\n",
        "برای واضح‌تر دیدن همگرایی، همچنین مشاهده اختلاف مسیر‌های همگرایی در تلاش‌های متفاوت، می‌توانیم آزمایش بالا را چندین بار تکرار کنیم و نمودار‌ها را کنار هم قرار دهیم.\n",
        "</font>\n",
        "</div>"
      ]
    },
    {
      "cell_type": "code",
      "metadata": {
        "id": "1Y2Pf3DKaIgy",
        "colab": {
          "base_uri": "https://localhost:8080/",
          "height": 437
        },
        "outputId": "22f17361-f7ef-42ec-c86a-b339532e569f"
      },
      "source": [
        "times = 10000\n",
        "colors = c('red', 'blue', 'green', 'yellow')\n",
        "plot(rep(0.1667, times), xlab = \"Trial\", type = \"l\",\n",
        "    ylab = \"Estimating the chance of observation 7\", col = 'black')\n",
        "for(k in 1:4) {\n",
        "  observations[, \"n\"] = 0\n",
        "  resutls = c()\n",
        "  for(i in 1:times) {\n",
        "    obs = sum_of_n_dice(2)\n",
        "    observations[toString(obs), 'n'] = observations[toString(obs), 'n'] + 1\n",
        "    result = observations[\"7\", \"n\"] / sum(observations[, \"n\"])\n",
        "    resutls = c(resutls, result)\n",
        "  }\n",
        "  lines(resutls, col = colors[k])\n",
        "}"
      ],
      "execution_count": 16,
      "outputs": [
        {
          "output_type": "display_data",
          "data": {
            "text/plain": [
              "plot without title"
            ],
            "image/png": "[encoded data removed]"
          },
          "metadata": {
            "image/png": {
              "width": 420,
              "height": 420
            }
          }
        }
      ]
    }
  ]
}